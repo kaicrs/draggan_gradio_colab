{
  "cells": [
    {
      "cell_type": "markdown",
      "metadata": {
        "id": "view-in-github",
        "colab_type": "text"
      },
      "source": [
        "<a href=\"https://colab.research.google.com/github/kaicrs/draggan_gradio_colab/blob/main/draggan_gradio_colab.ipynb\" target=\"_parent\"><img src=\"https://colab.research.google.com/assets/colab-badge.svg\" alt=\"Open In Colab\"/></a>"
      ]
    },
    {
      "cell_type": "markdown",
      "source": [
        "# DragGAN!"
      ],
      "metadata": {
        "id": "cpXCvv8hzROA"
      }
    },
    {
      "cell_type": "code",
      "execution_count": null,
      "metadata": {
        "id": "GgscAQozyafa"
      },
      "outputs": [],
      "source": [
        "!git clone https://github.com/XingangPan/DragGAN.git"
      ]
    },
    {
      "cell_type": "code",
      "execution_count": null,
      "metadata": {
        "id": "mqb4EZEZyahO"
      },
      "outputs": [],
      "source": [
        "cd /content/DragGAN"
      ]
    },
    {
      "cell_type": "code",
      "execution_count": null,
      "metadata": {
        "id": "5rKErdGoyakE"
      },
      "outputs": [],
      "source": [
        "!pip install -r requirements.txt"
      ]
    },
    {
      "cell_type": "markdown",
      "metadata": {
        "id": "08uDiFLB6sIH"
      },
      "source": [
        "## Download pre-trained StyleGAN2 weights\n",
        "#### To download pre-trained weights, simply run:"
      ]
    },
    {
      "cell_type": "code",
      "execution_count": null,
      "metadata": {
        "id": "r4yue2hvyant"
      },
      "outputs": [],
      "source": [
        "!sh scripts/download_model.sh"
      ]
    },
    {
      "cell_type": "markdown",
      "metadata": {
        "id": "ftwOVl0F62d5"
      },
      "source": [
        "If you want to try StyleGAN-Human and the Landscapes HQ (LHQ) dataset, please download weights from these links: StyleGAN-Human, LHQ, and put them under ./checkpoints.\n",
        "\n",
        "Feel free to try other pretrained StyleGAN."
      ]
    },
    {
      "cell_type": "markdown",
      "metadata": {
        "id": "Iom3q50G7uK6"
      },
      "source": [
        "use any checkpoints\n",
        "```\n",
        "stylegan2_dogs_1024_pytorch,\n",
        "stylegan2_elephants_512_pytorch,\n",
        "stylegan2-cat-config-f,\n",
        "stylegan2-afhqcat-512x512,\n",
        "stylegan2_horses_256_pytorch,\n",
        "stylegan_human_v2_512\n",
        "```\n",
        "\n",
        "or download the weight of stylegan_human_v2_512 &\n",
        "and put them under ./checkpoints.\n",
        "\n",
        "link :https://drive.google.com/file/d/1dlFEHbu-WzQWJl7nBBZYcTyo000H9hVm/view"
      ]
    },
    {
      "cell_type": "code",
      "execution_count": null,
      "metadata": {
        "id": "jrMfz3l75ABJ"
      },
      "outputs": [],
      "source": [
        "!python /content/DragGAN/visualizer_drag_gradio.py"
      ]
    },
    {
      "cell_type": "markdown",
      "source": [
        "Go to the URL indicated at the end of the run."
      ],
      "metadata": {
        "id": "-oe_27UvDoCH"
      }
    }
  ],
  "metadata": {
    "accelerator": "GPU",
    "colab": {
      "provenance": [],
      "gpuType": "T4",
      "include_colab_link": true
    },
    "kernelspec": {
      "display_name": "Python 3",
      "name": "python3"
    },
    "language_info": {
      "codemirror_mode": {
        "name": "ipython",
        "version": 3
      },
      "file_extension": ".py",
      "mimetype": "text/x-python",
      "name": "python",
      "nbconvert_exporter": "python",
      "pygments_lexer": "ipython3",
      "version": "3.8.10"
    }
  },
  "nbformat": 4,
  "nbformat_minor": 0
}